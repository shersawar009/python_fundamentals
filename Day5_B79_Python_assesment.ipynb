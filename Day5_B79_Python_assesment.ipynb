{
 "cells": [
  {
   "cell_type": "code",
   "execution_count": 1,
   "id": "8a281bfd",
   "metadata": {},
   "outputs": [
    {
     "name": "stdout",
     "output_type": "stream",
     "text": [
      "['suzuki', 'maruthi', 'honda', 'kia', 'bmw', 'benz', 'toyota', 'audi']\n"
     ]
    }
   ],
   "source": [
    "# Organising the List datatypes\n",
    "cars=['suzuki','maruthi','honda','kia','bmw','benz','toyota','audi']\n",
    "print(cars)"
   ]
  },
  {
   "cell_type": "code",
   "execution_count": 2,
   "id": "db8aac71",
   "metadata": {},
   "outputs": [
    {
     "data": {
      "text/plain": [
       "list"
      ]
     },
     "execution_count": 2,
     "metadata": {},
     "output_type": "execute_result"
    }
   ],
   "source": [
    "# which method is usd to validate/check datatype?\n",
    "type(cars)"
   ]
  },
  {
   "cell_type": "code",
   "execution_count": 3,
   "id": "81340584",
   "metadata": {},
   "outputs": [
    {
     "name": "stdout",
     "output_type": "stream",
     "text": [
      "['audi', 'benz', 'bmw', 'honda', 'kia', 'maruthi', 'suzuki', 'toyota']\n"
     ]
    }
   ],
   "source": [
    "#How to organise in alphabetical order(A-Z)\n",
    "# sorted () --> temp changes vs sort() --> permanent changes\n",
    "print(sorted(cars))"
   ]
  },
  {
   "cell_type": "code",
   "execution_count": 4,
   "id": "b2b58c82",
   "metadata": {},
   "outputs": [
    {
     "name": "stdout",
     "output_type": "stream",
     "text": [
      "['suzuki', 'maruthi', 'honda', 'kia', 'bmw', 'benz', 'toyota', 'audi']\n"
     ]
    }
   ],
   "source": [
    "# above used sorted() to print sorted elements temporarily, after that order again reverted\n",
    "print(cars)"
   ]
  },
  {
   "cell_type": "code",
   "execution_count": 9,
   "id": "5a20af0d",
   "metadata": {},
   "outputs": [],
   "source": [
    "# permanent sorting by using sort()\n",
    "cars.sort()"
   ]
  },
  {
   "cell_type": "code",
   "execution_count": 10,
   "id": "10a0e88b",
   "metadata": {},
   "outputs": [
    {
     "name": "stdout",
     "output_type": "stream",
     "text": [
      "['audi', 'benz', 'bmw', 'honda', 'kia', 'maruthi', 'suzuki', 'toyota']\n"
     ]
    }
   ],
   "source": [
    "print(cars)"
   ]
  },
  {
   "cell_type": "code",
   "execution_count": 11,
   "id": "f12bd5cf",
   "metadata": {},
   "outputs": [
    {
     "name": "stdout",
     "output_type": "stream",
     "text": [
      "['audi', 'benz', 'bmw', 'honda', 'kia', 'maruthi', 'suzuki', 'toyota']\n"
     ]
    }
   ],
   "source": [
    "print(cars)"
   ]
  },
  {
   "cell_type": "code",
   "execution_count": 12,
   "id": "de5b9856",
   "metadata": {},
   "outputs": [
    {
     "name": "stdout",
     "output_type": "stream",
     "text": [
      "['toyota', 'suzuki', 'maruthi', 'kia', 'honda', 'bmw', 'benz', 'audi']\n"
     ]
    }
   ],
   "source": [
    "# req is to reverse the order  in list\n",
    "cars.reverse()\n",
    "print(cars)"
   ]
  },
  {
   "cell_type": "code",
   "execution_count": 13,
   "id": "c678ac7f",
   "metadata": {},
   "outputs": [
    {
     "data": {
      "text/plain": [
       "8"
      ]
     },
     "execution_count": 13,
     "metadata": {},
     "output_type": "execute_result"
    }
   ],
   "source": [
    "len(cars)"
   ]
  },
  {
   "cell_type": "code",
   "execution_count": 14,
   "id": "e16d5d10",
   "metadata": {},
   "outputs": [
    {
     "name": "stdout",
     "output_type": "stream",
     "text": [
      "['aditi', 'sara', 'monika', 'ramya', 'nevin', 'adil', 'kiran', 'david']\n"
     ]
    }
   ],
   "source": [
    "# Introduction to Slicing:\n",
    "# syntax: [startvalue:stopvalue:stepcount]\n",
    "# stopvalue is always exclusive to include the stopvalue we have to increment the numbers by +1'\n",
    "# Examples as below:\n",
    "students=['aditi','sara','monika','ramya','nevin','adil','kiran','david']\n",
    "print(students)"
   ]
  },
  {
   "cell_type": "code",
   "execution_count": 15,
   "id": "ac278bc2",
   "metadata": {},
   "outputs": [
    {
     "data": {
      "text/plain": [
       "list"
      ]
     },
     "execution_count": 15,
     "metadata": {},
     "output_type": "execute_result"
    }
   ],
   "source": [
    "type(students)"
   ]
  },
  {
   "cell_type": "code",
   "execution_count": 20,
   "id": "251cb61a",
   "metadata": {},
   "outputs": [
    {
     "name": "stdout",
     "output_type": "stream",
     "text": [
      "['aditi']\n"
     ]
    }
   ],
   "source": [
    "# to display aditi\n",
    "print(students[0:1])"
   ]
  },
  {
   "cell_type": "code",
   "execution_count": 21,
   "id": "66be5f1d",
   "metadata": {},
   "outputs": [
    {
     "name": "stdout",
     "output_type": "stream",
     "text": [
      "['aditi', 'sara']\n"
     ]
    }
   ],
   "source": [
    "# to display aditi and sara\n",
    "print(students[0:2])"
   ]
  },
  {
   "cell_type": "code",
   "execution_count": 22,
   "id": "c693bf85",
   "metadata": {},
   "outputs": [
    {
     "name": "stdout",
     "output_type": "stream",
     "text": [
      "['aditi', 'sara', 'monika', 'ramya', 'nevin', 'adil', 'kiran', 'david']\n"
     ]
    }
   ],
   "source": [
    "print(students)"
   ]
  },
  {
   "cell_type": "code",
   "execution_count": 23,
   "id": "cfefdbc7",
   "metadata": {},
   "outputs": [
    {
     "name": "stdout",
     "output_type": "stream",
     "text": [
      "['monika']\n"
     ]
    }
   ],
   "source": [
    "# to display monika only\n",
    "print(students[2:3])"
   ]
  },
  {
   "cell_type": "code",
   "execution_count": 24,
   "id": "b70c6c2f",
   "metadata": {},
   "outputs": [
    {
     "name": "stdout",
     "output_type": "stream",
     "text": [
      "['aditi', 'sara', 'monika']\n"
     ]
    }
   ],
   "source": [
    "# to display till monika ( actually it is 2 as index position but in slicing concept have to add +1 to stopvalue)\n",
    "print(students[0:3])"
   ]
  },
  {
   "cell_type": "code",
   "execution_count": 25,
   "id": "09c30055",
   "metadata": {},
   "outputs": [
    {
     "name": "stdout",
     "output_type": "stream",
     "text": [
      "['aditi', 'monika', 'nevin', 'kiran']\n"
     ]
    }
   ],
   "source": [
    "# below cmd displays  every odd number as we have given 2 so it displays alternate number(every second number)\n",
    "## syntax: [startvalue:stopvalue:stepcount]\n",
    "print(students[0:8:2])  "
   ]
  },
  {
   "cell_type": "code",
   "execution_count": 26,
   "id": "dbd23189",
   "metadata": {},
   "outputs": [
    {
     "name": "stdout",
     "output_type": "stream",
     "text": [
      "['aditi', 'sara', 'monika', 'ramya', 'nevin', 'adil', 'kiran', 'david']\n"
     ]
    }
   ],
   "source": [
    "# slicing\n",
    "print(students)"
   ]
  },
  {
   "cell_type": "code",
   "execution_count": 27,
   "id": "afd5de51",
   "metadata": {},
   "outputs": [
    {
     "name": "stdout",
     "output_type": "stream",
     "text": [
      "['aditi', 'ramya', 'kiran']\n"
     ]
    }
   ],
   "source": [
    "print(students[0:8:3])"
   ]
  },
  {
   "cell_type": "code",
   "execution_count": 28,
   "id": "b230b032",
   "metadata": {},
   "outputs": [
    {
     "name": "stdout",
     "output_type": "stream",
     "text": [
      "['aditi', 'adil']\n"
     ]
    }
   ],
   "source": [
    "print(students[0:8:5])"
   ]
  },
  {
   "cell_type": "code",
   "execution_count": 30,
   "id": "5fc39797",
   "metadata": {},
   "outputs": [
    {
     "name": "stdout",
     "output_type": "stream",
     "text": [
      "['aditi', 'sara', 'monika', 'ramya', 'nevin', 'adil', 'kiran', 'david']\n"
     ]
    }
   ],
   "source": [
    "# Introduction to Negative Indexing:\n",
    "# 0,1,2,3,4,5...\n",
    "#  -1,-2,-3,-4  ..... is called -ve Indexing\n",
    "print(students)"
   ]
  },
  {
   "cell_type": "code",
   "execution_count": 31,
   "id": "db7b65c6",
   "metadata": {},
   "outputs": [
    {
     "name": "stdout",
     "output_type": "stream",
     "text": [
      "david\n"
     ]
    }
   ],
   "source": [
    "print(students[-1])"
   ]
  },
  {
   "cell_type": "code",
   "execution_count": 32,
   "id": "22ec0991",
   "metadata": {},
   "outputs": [
    {
     "name": "stdout",
     "output_type": "stream",
     "text": [
      "nevin\n"
     ]
    }
   ],
   "source": [
    "# It displays 4th index value from last side\n",
    "print(students[-4])"
   ]
  },
  {
   "cell_type": "code",
   "execution_count": 33,
   "id": "08414973",
   "metadata": {},
   "outputs": [
    {
     "name": "stdout",
     "output_type": "stream",
     "text": [
      "ramya\n"
     ]
    }
   ],
   "source": [
    "# It displays 5th index value from last side\n",
    "print(students[-5])"
   ]
  },
  {
   "cell_type": "code",
   "execution_count": null,
   "id": "ded9e62c",
   "metadata": {},
   "outputs": [],
   "source": []
  }
 ],
 "metadata": {
  "kernelspec": {
   "display_name": "Python 3 (ipykernel)",
   "language": "python",
   "name": "python3"
  },
  "language_info": {
   "codemirror_mode": {
    "name": "ipython",
    "version": 3
   },
   "file_extension": ".py",
   "mimetype": "text/x-python",
   "name": "python",
   "nbconvert_exporter": "python",
   "pygments_lexer": "ipython3",
   "version": "3.11.3"
  }
 },
 "nbformat": 4,
 "nbformat_minor": 5
}
