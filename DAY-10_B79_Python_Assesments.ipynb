{
 "cells": [
  {
   "cell_type": "code",
   "execution_count": null,
   "id": "d1184ce2",
   "metadata": {},
   "outputs": [],
   "source": [
    "# Introduction to functions:\n",
    "==> def is keyword is used to defining function\n",
    "==> Name of function should be in small letters"
   ]
  },
  {
   "cell_type": "code",
   "execution_count": 2,
   "id": "b6cbbf6e",
   "metadata": {},
   "outputs": [],
   "source": [
    "def greet_user():  # function_name\n",
    "    \"\"\"\" creating a greet function  \"\"\"   # doc---> string comments inside the function\n",
    "    print(\"Hello!\")    "
   ]
  },
  {
   "cell_type": "code",
   "execution_count": 3,
   "id": "42406311",
   "metadata": {},
   "outputs": [
    {
     "name": "stdout",
     "output_type": "stream",
     "text": [
      "Hello!\n"
     ]
    }
   ],
   "source": [
    "greet_user()"
   ]
  },
  {
   "cell_type": "code",
   "execution_count": 4,
   "id": "e336a85c",
   "metadata": {},
   "outputs": [],
   "source": [
    "# Enhancements of code(function)\n",
    "def greet_user(user_name):  #  declare parameter \n",
    "    \"\"\"\" creating a greet function  \"\"\"   # doc---> string comments inside the function\n",
    "    print(f\"Hello , {user_name}\")    "
   ]
  },
  {
   "cell_type": "code",
   "execution_count": 5,
   "id": "fe13457b",
   "metadata": {},
   "outputs": [
    {
     "name": "stdout",
     "output_type": "stream",
     "text": [
      "Hello , dipali\n"
     ]
    }
   ],
   "source": [
    "greet_user('dipali')"
   ]
  },
  {
   "cell_type": "code",
   "execution_count": 7,
   "id": "0c361cdf",
   "metadata": {},
   "outputs": [
    {
     "name": "stdout",
     "output_type": "stream",
     "text": [
      "Hello , rupali\n"
     ]
    }
   ],
   "source": [
    "greet_user('rupali')  # single quotes compulsory"
   ]
  },
  {
   "cell_type": "code",
   "execution_count": 8,
   "id": "991f8e24",
   "metadata": {},
   "outputs": [
    {
     "name": "stdout",
     "output_type": "stream",
     "text": [
      "Hello , venkat \n"
     ]
    }
   ],
   "source": [
    "greet_user('venkat ')  # single quotes compulsory"
   ]
  },
  {
   "cell_type": "code",
   "execution_count": 15,
   "id": "9b239d3a",
   "metadata": {},
   "outputs": [],
   "source": [
    "# Types of arguments:\n",
    "# Req: create a finction with name describe_pet , It will accepts two input parameters\n",
    "def describe_pet(animal_type,pet_name):\n",
    "    \"\"\"\" creating a function  to describe pet details  \"\"\"   # doc---> string comments inside the function\n",
    "    print(f\"I have a {animal_type}\")\n",
    "    print(f\"My {animal_type}'s name is {pet_name}' \")"
   ]
  },
  {
   "cell_type": "code",
   "execution_count": 16,
   "id": "222b65f5",
   "metadata": {},
   "outputs": [
    {
     "name": "stdout",
     "output_type": "stream",
     "text": [
      "I have a dog\n",
      "My dog's name is rex' \n"
     ]
    }
   ],
   "source": [
    "describe_pet('dog','rex')"
   ]
  },
  {
   "cell_type": "code",
   "execution_count": 17,
   "id": "a3d4a412",
   "metadata": {},
   "outputs": [
    {
     "name": "stdout",
     "output_type": "stream",
     "text": [
      "I have a cat\n",
      "My cat's name is seon' \n"
     ]
    }
   ],
   "source": [
    "describe_pet('cat','seon')"
   ]
  },
  {
   "cell_type": "code",
   "execution_count": 18,
   "id": "f30cb4fd",
   "metadata": {},
   "outputs": [
    {
     "name": "stdout",
     "output_type": "stream",
     "text": [
      "I have a rex\n",
      "My rex's name is cat' \n"
     ]
    }
   ],
   "source": [
    "#Positional Arguments:\n",
    "#Note: We have to pass input arguments in same order of parameters declared.\n",
    "describe_pet('rex','cat')"
   ]
  },
  {
   "cell_type": "code",
   "execution_count": 19,
   "id": "98d085f5",
   "metadata": {},
   "outputs": [
    {
     "name": "stdout",
     "output_type": "stream",
     "text": [
      "I have a cat\n",
      "My cat's name is rex' \n"
     ]
    }
   ],
   "source": [
    "# Keyword Arguments:\n",
    "#Note : we can declare input parameters with values irrespective of order declared in function\n",
    "describe_pet(pet_name='rex',animal_type='cat')"
   ]
  },
  {
   "cell_type": "code",
   "execution_count": 20,
   "id": "7a4272bd",
   "metadata": {},
   "outputs": [],
   "source": [
    "# Default Arguments:\n",
    "def describe_pet(pet_name,animal_type='dog'):\n",
    "    \"\"\"\" creating a function  to describe pet details  \"\"\"   # doc---> string comments inside the function\n",
    "    print(f\"I have a {animal_type}\")\n",
    "    print(f\"My {animal_type}'s name is {pet_name}' \")"
   ]
  },
  {
   "cell_type": "code",
   "execution_count": 24,
   "id": "673b794a",
   "metadata": {},
   "outputs": [
    {
     "name": "stdout",
     "output_type": "stream",
     "text": [
      "I have a dog\n",
      "My dog's name is seon' \n"
     ]
    }
   ],
   "source": [
    "describe_pet('seon')"
   ]
  },
  {
   "cell_type": "code",
   "execution_count": 27,
   "id": "6edd0b77",
   "metadata": {},
   "outputs": [],
   "source": [
    "# Speculative/Arbitary Arguments:\n",
    "def make_pizza(toppings):\n",
    "    \"\"\"\" creating a function to capture the topping details \"\"\"\n",
    "    print(f\" order of pizza toppings are {toppings}\")    "
   ]
  },
  {
   "cell_type": "code",
   "execution_count": 28,
   "id": "80930209",
   "metadata": {},
   "outputs": [
    {
     "name": "stdout",
     "output_type": "stream",
     "text": [
      " order of pizza toppings are olives\n"
     ]
    }
   ],
   "source": [
    "make_pizza('olives')"
   ]
  },
  {
   "cell_type": "code",
   "execution_count": 29,
   "id": "86613db4",
   "metadata": {},
   "outputs": [
    {
     "ename": "TypeError",
     "evalue": "make_pizza() takes 1 positional argument but 2 were given",
     "output_type": "error",
     "traceback": [
      "\u001b[1;31m---------------------------------------------------------------------------\u001b[0m",
      "\u001b[1;31mTypeError\u001b[0m                                 Traceback (most recent call last)",
      "Cell \u001b[1;32mIn[29], line 1\u001b[0m\n\u001b[1;32m----> 1\u001b[0m make_pizza(\u001b[38;5;124m'\u001b[39m\u001b[38;5;124molives\u001b[39m\u001b[38;5;124m'\u001b[39m,\u001b[38;5;124m'\u001b[39m\u001b[38;5;124monions\u001b[39m\u001b[38;5;124m'\u001b[39m)\n",
      "\u001b[1;31mTypeError\u001b[0m: make_pizza() takes 1 positional argument but 2 were given"
     ]
    }
   ],
   "source": [
    "make_pizza('olives','onions') # if we give multiple input args but declared one."
   ]
  },
  {
   "cell_type": "code",
   "execution_count": 34,
   "id": "a61afc4e",
   "metadata": {},
   "outputs": [],
   "source": [
    "# USE * before the input argument as shown below to accept multiple input arguments:\n",
    "# Speculative/Arbitary Arguments:\n",
    "def make_pizza(*toppings):\n",
    "    \"\"\"\" creating a function to capture the topping details \"\"\"\n",
    "    print(f\" order of pizza toppings are {toppings}\")    "
   ]
  },
  {
   "cell_type": "code",
   "execution_count": 35,
   "id": "a6692149",
   "metadata": {},
   "outputs": [
    {
     "name": "stdout",
     "output_type": "stream",
     "text": [
      " order of pizza toppings are ('olives', 'onions', 'corn')\n"
     ]
    }
   ],
   "source": [
    "make_pizza('olives','onions','corn') "
   ]
  },
  {
   "cell_type": "code",
   "execution_count": 36,
   "id": "a07afa99",
   "metadata": {},
   "outputs": [
    {
     "name": "stdout",
     "output_type": "stream",
     "text": [
      " order of pizza toppings are ('olives', 'onions', 'corn', 'olives', 'onions', 'corn')\n"
     ]
    }
   ],
   "source": [
    "make_pizza('olives','onions','corn','olives','onions','corn') "
   ]
  },
  {
   "cell_type": "code",
   "execution_count": null,
   "id": "123ba35e",
   "metadata": {},
   "outputs": [],
   "source": []
  }
 ],
 "metadata": {
  "kernelspec": {
   "display_name": "Python 3 (ipykernel)",
   "language": "python",
   "name": "python3"
  },
  "language_info": {
   "codemirror_mode": {
    "name": "ipython",
    "version": 3
   },
   "file_extension": ".py",
   "mimetype": "text/x-python",
   "name": "python",
   "nbconvert_exporter": "python",
   "pygments_lexer": "ipython3",
   "version": "3.11.3"
  }
 },
 "nbformat": 4,
 "nbformat_minor": 5
}
