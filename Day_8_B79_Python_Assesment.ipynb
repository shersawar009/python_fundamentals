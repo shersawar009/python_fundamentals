{
 "cells": [
  {
   "cell_type": "code",
   "execution_count": 3,
   "id": "c964b792",
   "metadata": {},
   "outputs": [],
   "source": [
    "# Introduction to DIctionaries:\n",
    "# A dictionary is combination of key-value pairs.\n",
    "# It is mutable datatype.\n",
    "# defined in {}\n",
    "# In all real world datatypes it is used extensively"
   ]
  },
  {
   "cell_type": "code",
   "execution_count": 4,
   "id": "4d563981",
   "metadata": {},
   "outputs": [
    {
     "name": "stdout",
     "output_type": "stream",
     "text": [
      "{'color': 'green', 'points': 5}\n"
     ]
    }
   ],
   "source": [
    "#Req:how to creatre alien game\n",
    "alien={'color':'green','points':5}\n",
    "print(alien)"
   ]
  },
  {
   "cell_type": "code",
   "execution_count": 5,
   "id": "3f2d94bb",
   "metadata": {},
   "outputs": [
    {
     "data": {
      "text/plain": [
       "dict"
      ]
     },
     "execution_count": 5,
     "metadata": {},
     "output_type": "execute_result"
    }
   ],
   "source": [
    "type(alien)"
   ]
  },
  {
   "cell_type": "code",
   "execution_count": 6,
   "id": "5ad8ff01",
   "metadata": {},
   "outputs": [
    {
     "name": "stdout",
     "output_type": "stream",
     "text": [
      "5\n"
     ]
    }
   ],
   "source": [
    "# how tmaccess key value pair..!\n",
    "# how many points for killing alien..!\n",
    "print(alien['points'])"
   ]
  },
  {
   "cell_type": "code",
   "execution_count": 9,
   "id": "d504e071",
   "metadata": {},
   "outputs": [
    {
     "name": "stdout",
     "output_type": "stream",
     "text": [
      "green\n"
     ]
    }
   ],
   "source": [
    "# check color of alien.. give input as key to get value as output as below:\n",
    "print(alien['color'])"
   ]
  },
  {
   "cell_type": "code",
   "execution_count": 10,
   "id": "4413cea3",
   "metadata": {},
   "outputs": [
    {
     "ename": "KeyError",
     "evalue": "'green'",
     "output_type": "error",
     "traceback": [
      "\u001b[1;31m---------------------------------------------------------------------------\u001b[0m",
      "\u001b[1;31mKeyError\u001b[0m                                  Traceback (most recent call last)",
      "Cell \u001b[1;32mIn[10], line 1\u001b[0m\n\u001b[1;32m----> 1\u001b[0m \u001b[38;5;28mprint\u001b[39m(alien[\u001b[38;5;124m'\u001b[39m\u001b[38;5;124mgreen\u001b[39m\u001b[38;5;124m'\u001b[39m])\n",
      "\u001b[1;31mKeyError\u001b[0m: 'green'"
     ]
    }
   ],
   "source": [
    "# v.imp  It works only give input as key to get value and it not works for values as input\n",
    "print(alien['green'])"
   ]
  },
  {
   "cell_type": "code",
   "execution_count": 11,
   "id": "2c8ce3d4",
   "metadata": {},
   "outputs": [
    {
     "name": "stdout",
     "output_type": "stream",
     "text": [
      "{'color': 'green', 'points': 5, 'level': 1}\n"
     ]
    }
   ],
   "source": [
    "# Req to add new key-value pair to DICT?\n",
    "#  To Add {level,1}. use below command syntax.\n",
    "alien['level']=1\n",
    "print(alien)"
   ]
  },
  {
   "cell_type": "code",
   "execution_count": 12,
   "id": "01f85dfd",
   "metadata": {},
   "outputs": [
    {
     "name": "stdout",
     "output_type": "stream",
     "text": [
      "{'color': 'green', 'points': 5, 'level': 4}\n"
     ]
    }
   ],
   "source": [
    "#  To modify {level as 4}. use below command syntax.\n",
    "# To add and Modify the syntax is same. alien['points']=10\n",
    "alien['level']=4\n",
    "print(alien)"
   ]
  },
  {
   "cell_type": "code",
   "execution_count": 13,
   "id": "f062133a",
   "metadata": {},
   "outputs": [
    {
     "name": "stdout",
     "output_type": "stream",
     "text": [
      "{'color': 'green', 'level': 4}\n"
     ]
    }
   ],
   "source": [
    "# To delete key-value pair use  this syntax:\n",
    "del alien['points']\n",
    "print(alien)"
   ]
  },
  {
   "cell_type": "code",
   "execution_count": 15,
   "id": "1273529a",
   "metadata": {},
   "outputs": [],
   "source": [
    "##########################################################################\n",
    "#                        Implementation of forloop:                      #\n",
    "##########################################################################\n",
    "# syntax: \n",
    "for temvar1,tempvar2 in main_var.items():\n",
    "    print(tempvar1)\n",
    "    print(tempvar2)"
   ]
  },
  {
   "cell_type": "code",
   "execution_count": 19,
   "id": "97a19d54",
   "metadata": {},
   "outputs": [
    {
     "name": "stdout",
     "output_type": "stream",
     "text": [
      "color\n",
      "green\n",
      "level\n",
      "4\n"
     ]
    }
   ],
   "source": [
    "# used k and v are temp vars , because we have two key-value pairs in above dictionary- alien\n",
    "for k,v in alien.items():\n",
    "    print(k)\n",
    "    print(v)"
   ]
  },
  {
   "cell_type": "code",
   "execution_count": 20,
   "id": "5f1b94fe",
   "metadata": {},
   "outputs": [
    {
     "name": "stdout",
     "output_type": "stream",
     "text": [
      "key is : color\n",
      "value for above key is : green\n",
      "key is : level\n",
      "value for above key is : 4\n"
     ]
    }
   ],
   "source": [
    "# used k and v are temp vars , because we have two key-value pairs in above dictionary- alien\n",
    "# use custom method to print message\n",
    "# general Note: this custom method message syntax is same for dict/list etc in flower braces as below:\n",
    "for k,v in alien.items():\n",
    "    print(f\"key is : {k}\")\n",
    "    print(f\"value for above key is : {v}\")"
   ]
  },
  {
   "cell_type": "code",
   "execution_count": 22,
   "id": "c5f7e2b3",
   "metadata": {},
   "outputs": [
    {
     "name": "stdout",
     "output_type": "stream",
     "text": [
      "{'first_name': 'code', 'last_name': 'training', 'password': '54321', 'dob': '01-01-2020'}\n"
     ]
    },
    {
     "data": {
      "text/plain": [
       "dict"
      ]
     },
     "execution_count": 22,
     "metadata": {},
     "output_type": "execute_result"
    }
   ],
   "source": [
    "# create user account in fb:\n",
    "user_name={'first_name':'code','last_name':'training','password':'54321','dob':'01-01-2020'}\n",
    "print(user_name)\n",
    "type(user_name)"
   ]
  },
  {
   "cell_type": "code",
   "execution_count": 23,
   "id": "f4d4710b",
   "metadata": {},
   "outputs": [
    {
     "name": "stdout",
     "output_type": "stream",
     "text": [
      "{'first_name': 'code', 'last_name': 'training', 'password': '54321', 'dob': '01-01-2020', 'location': 'arch_cafe'}\n"
     ]
    }
   ],
   "source": [
    "# req to append arch cafe to above dictionary:\n",
    "user_name['location']='arch_cafe'\n",
    "print(user_name)"
   ]
  },
  {
   "cell_type": "code",
   "execution_count": 24,
   "id": "d5867bde",
   "metadata": {},
   "outputs": [
    {
     "name": "stdout",
     "output_type": "stream",
     "text": [
      "{'first_name': 'code', 'last_name': 'training', 'password': '54321', 'dob': '01-01-2020', 'location': 'ark_cafe'}\n"
     ]
    }
   ],
   "source": [
    "# req to modify arch cafe as ark_cafe to above dictionary:\n",
    "user_name['location']='ark_cafe'\n",
    "print(user_name)"
   ]
  },
  {
   "cell_type": "code",
   "execution_count": null,
   "id": "8fc2ae73",
   "metadata": {},
   "outputs": [],
   "source": []
  }
 ],
 "metadata": {
  "kernelspec": {
   "display_name": "Python 3 (ipykernel)",
   "language": "python",
   "name": "python3"
  },
  "language_info": {
   "codemirror_mode": {
    "name": "ipython",
    "version": 3
   },
   "file_extension": ".py",
   "mimetype": "text/x-python",
   "name": "python",
   "nbconvert_exporter": "python",
   "pygments_lexer": "ipython3",
   "version": "3.11.3"
  }
 },
 "nbformat": 4,
 "nbformat_minor": 5
}
