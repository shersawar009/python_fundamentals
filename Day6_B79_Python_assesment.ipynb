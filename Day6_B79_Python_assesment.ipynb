{
 "cells": [
  {
   "cell_type": "code",
   "execution_count": 1,
   "id": "0fc8df56",
   "metadata": {},
   "outputs": [
    {
     "name": "stdout",
     "output_type": "stream",
     "text": [
      "['rani', 'navin', 'ramya', 'saba', 'aisha', 'hamid']\n"
     ]
    }
   ],
   "source": [
    "# Introduction to Looping statement\n",
    "# for loop\n",
    "students=['rani','navin','ramya','saba','aisha','hamid']\n",
    "print(students)"
   ]
  },
  {
   "cell_type": "code",
   "execution_count": 3,
   "id": "5ce9382b",
   "metadata": {},
   "outputs": [
    {
     "data": {
      "text/plain": [
       "list"
      ]
     },
     "execution_count": 3,
     "metadata": {},
     "output_type": "execute_result"
    }
   ],
   "source": [
    "type(students)"
   ]
  },
  {
   "cell_type": "code",
   "execution_count": 8,
   "id": "269b3844",
   "metadata": {},
   "outputs": [
    {
     "name": "stdout",
     "output_type": "stream",
     "text": [
      "keep up the good work,Rani\n"
     ]
    }
   ],
   "source": [
    "# Req to appreciate rani for good work\n",
    "# use f-string method to print custom message as below:\n",
    "print(f\"keep up the good work,{students[0].title()}\")"
   ]
  },
  {
   "cell_type": "code",
   "execution_count": 9,
   "id": "ea61241d",
   "metadata": {},
   "outputs": [
    {
     "name": "stdout",
     "output_type": "stream",
     "text": [
      "keep up the good work,Saba\n"
     ]
    }
   ],
   "source": [
    "# Req to appreciate saba for good work\n",
    "# use f-string method to print custom message as below:\n",
    "print(f\"keep up the good work,{students[3].title()}\")"
   ]
  },
  {
   "cell_type": "code",
   "execution_count": 10,
   "id": "29a392e4",
   "metadata": {},
   "outputs": [
    {
     "name": "stdout",
     "output_type": "stream",
     "text": [
      "keep up the good work,rani\n",
      "keep up the good work,navin\n",
      "keep up the good work,ramya\n",
      "keep up the good work,saba\n",
      "keep up the good work,aisha\n",
      "keep up the good work,hamid\n"
     ]
    }
   ],
   "source": [
    "# General syntax for loop:\n",
    "# use loop to print custom message for all students\n",
    "for x in students:\n",
    "    print(f\"keep up the good work,{x}\")"
   ]
  },
  {
   "cell_type": "code",
   "execution_count": 11,
   "id": "5c04101b",
   "metadata": {},
   "outputs": [
    {
     "name": "stdout",
     "output_type": "stream",
     "text": [
      "rani\n",
      "navin\n",
      "ramya\n",
      "saba\n",
      "aisha\n",
      "hamid\n"
     ]
    }
   ],
   "source": [
    "# we can assign any value for loop\n",
    "for a in students:\n",
    "    print(a)"
   ]
  },
  {
   "cell_type": "code",
   "execution_count": 14,
   "id": "189a90d8",
   "metadata": {},
   "outputs": [
    {
     "name": "stdout",
     "output_type": "stream",
     "text": [
      "keep up the good work,rani\n",
      "Iam looking your git urls,rani\n",
      "\n",
      "keep up the good work,navin\n",
      "Iam looking your git urls,navin\n",
      "\n",
      "keep up the good work,ramya\n",
      "Iam looking your git urls,ramya\n",
      "\n",
      "keep up the good work,saba\n",
      "Iam looking your git urls,saba\n",
      "\n",
      "keep up the good work,aisha\n",
      "Iam looking your git urls,aisha\n",
      "\n",
      "keep up the good work,hamid\n",
      "Iam looking your git urls,hamid\n",
      "\n"
     ]
    }
   ],
   "source": [
    "# ex:3: \n",
    "for x in students:\n",
    "    print(f\"keep up the good work,{x}\")\n",
    "    print(f\"Iam looking your git urls,{x}\\n\")"
   ]
  },
  {
   "cell_type": "code",
   "execution_count": 17,
   "id": "81cc7f5e",
   "metadata": {},
   "outputs": [
    {
     "name": "stdout",
     "output_type": "stream",
     "text": [
      "keep up the good work,rani\n",
      "Iam looking your git urls,rani\n",
      "\t\n",
      "keep up the good work,navin\n",
      "Iam looking your git urls,navin\n",
      "\t\n",
      "keep up the good work,ramya\n",
      "Iam looking your git urls,ramya\n",
      "\t\n",
      "keep up the good work,saba\n",
      "Iam looking your git urls,saba\n",
      "\t\n",
      "keep up the good work,aisha\n",
      "Iam looking your git urls,aisha\n",
      "\t\n",
      "keep up the good work,hamid\n",
      "Iam looking your git urls,hamid\n",
      "\t\n"
     ]
    }
   ],
   "source": [
    "# ex:3:  \\n\\t\n",
    "for x in students:\n",
    "    print(f\"keep up the good work,{x}\")\n",
    "    print(f\"Iam looking your git urls,{x}\\n\\t\")"
   ]
  },
  {
   "cell_type": "code",
   "execution_count": null,
   "id": "0474d909",
   "metadata": {},
   "outputs": [],
   "source": [
    "# Introduction to TUPLE dataype:\n",
    "# It is Immutaable list is called \"TUPLE\"\n",
    "It define as -->()\n",
    "  #   LIST vs TUPLE\n",
    "    In LIST[], we can edit/alter (mutable)  but in TUPLE() we cannot alter as it is IMMUTABLE.\n",
    "    "
   ]
  },
  {
   "cell_type": "code",
   "execution_count": 18,
   "id": "a37e60d9",
   "metadata": {},
   "outputs": [
    {
     "name": "stdout",
     "output_type": "stream",
     "text": [
      "(200, 50)\n"
     ]
    }
   ],
   "source": [
    "# in tuple () , we declared in comma separated but if we call in loop then it will display in column as below:\n",
    "dimensions=(200,50)\n",
    "print(dimensions)"
   ]
  },
  {
   "cell_type": "code",
   "execution_count": 19,
   "id": "d9271f9a",
   "metadata": {},
   "outputs": [
    {
     "data": {
      "text/plain": [
       "tuple"
      ]
     },
     "execution_count": 19,
     "metadata": {},
     "output_type": "execute_result"
    }
   ],
   "source": [
    "type(dimensions)"
   ]
  },
  {
   "cell_type": "code",
   "execution_count": 20,
   "id": "d0e32860",
   "metadata": {},
   "outputs": [
    {
     "name": "stdout",
     "output_type": "stream",
     "text": [
      "200\n",
      "50\n"
     ]
    }
   ],
   "source": [
    "for a in dimensions:\n",
    "    print(a)"
   ]
  },
  {
   "cell_type": "code",
   "execution_count": 21,
   "id": "adfc21b8",
   "metadata": {},
   "outputs": [
    {
     "ename": "TypeError",
     "evalue": "'tuple' object does not support item assignment",
     "output_type": "error",
     "traceback": [
      "\u001b[1;31m---------------------------------------------------------------------------\u001b[0m",
      "\u001b[1;31mTypeError\u001b[0m                                 Traceback (most recent call last)",
      "Cell \u001b[1;32mIn[21], line 2\u001b[0m\n\u001b[0;32m      1\u001b[0m \u001b[38;5;66;03m# Note: Tuple() is datatype ,in which assigning  value is not possible.\u001b[39;00m\n\u001b[1;32m----> 2\u001b[0m dimensions[\u001b[38;5;241m0\u001b[39m]\u001b[38;5;241m=\u001b[39m\u001b[38;5;241m250\u001b[39m\n",
      "\u001b[1;31mTypeError\u001b[0m: 'tuple' object does not support item assignment"
     ]
    }
   ],
   "source": [
    "# Note: Tuple() is datatype ,in which assigning  value is not possible.\n",
    "# below is example that assigning value is not possible as shown below:\n",
    "dimensions[0]=250"
   ]
  },
  {
   "cell_type": "code",
   "execution_count": 22,
   "id": "a6e12b85",
   "metadata": {},
   "outputs": [
    {
     "name": "stdout",
     "output_type": "stream",
     "text": [
      "(200, 50)\n"
     ]
    }
   ],
   "source": [
    "print(dimensions)"
   ]
  },
  {
   "cell_type": "code",
   "execution_count": 23,
   "id": "97406fbc",
   "metadata": {},
   "outputs": [
    {
     "name": "stdout",
     "output_type": "stream",
     "text": [
      "200\n"
     ]
    }
   ],
   "source": [
    "# displayed particular value by using indexing method:\n",
    "print(dimensions[0])"
   ]
  },
  {
   "cell_type": "code",
   "execution_count": 28,
   "id": "95d68844",
   "metadata": {},
   "outputs": [
    {
     "name": "stdout",
     "output_type": "stream",
     "text": [
      "(200,)\n"
     ]
    }
   ],
   "source": [
    "# displayed particular value by using slicing method: just for practisce but use Index method to get exact value\n",
    "print(dimensions[0:1])"
   ]
  },
  {
   "cell_type": "code",
   "execution_count": 30,
   "id": "658ebd27",
   "metadata": {},
   "outputs": [
    {
     "name": "stdout",
     "output_type": "stream",
     "text": [
      "200\n",
      "50\n"
     ]
    }
   ],
   "source": [
    "for y in dimensions:\n",
    "    print(y)"
   ]
  },
  {
   "cell_type": "code",
   "execution_count": null,
   "id": "45e69de5",
   "metadata": {},
   "outputs": [],
   "source": []
  }
 ],
 "metadata": {
  "kernelspec": {
   "display_name": "Python 3 (ipykernel)",
   "language": "python",
   "name": "python3"
  },
  "language_info": {
   "codemirror_mode": {
    "name": "ipython",
    "version": 3
   },
   "file_extension": ".py",
   "mimetype": "text/x-python",
   "name": "python",
   "nbconvert_exporter": "python",
   "pygments_lexer": "ipython3",
   "version": "3.11.3"
  }
 },
 "nbformat": 4,
 "nbformat_minor": 5
}
