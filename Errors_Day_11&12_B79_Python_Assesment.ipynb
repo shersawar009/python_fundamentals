{
 "cells": [
  {
   "cell_type": "code",
   "execution_count": 22,
   "id": "1cb44dd2",
   "metadata": {},
   "outputs": [],
   "source": [
    "# Introduction to classes\n",
    "# 1) class\n",
    "# 2)methods\n",
    "# 3)objects/Instances\n",
    "# 4)attributes\n",
    "# 5)self"
   ]
  },
  {
   "cell_type": "code",
   "execution_count": 23,
   "id": "b944684f",
   "metadata": {},
   "outputs": [],
   "source": [
    "# Class: It is a keyword that will be using to define \"class\".\n",
    "# Method: A Function is written inside the class is called \"Method\".\n",
    "# Object: It is used to access the Methods which are defined under the class.\n",
    "# Attribute: A Variable is written inside the class is called \"Attribute\".\n",
    "# Self: It is replica of the Object or Instance defined."
   ]
  },
  {
   "cell_type": "code",
   "execution_count": 24,
   "id": "93f32ab7",
   "metadata": {},
   "outputs": [],
   "source": [
    "class dog:\n",
    "    \"\"\"A simple attempt to model dog\"\"\"  # Comments\n",
    "    def  __init__(self,name,age):        # Mandatory statement\n",
    "        ##  __init__ method allows you to initialize the attributes (variables) of an object\n",
    "        \"\"\"Initializing name,Age as attributes\"\"\"  # Comments2\n",
    "        self.name=name\n",
    "        self.age=age\n",
    "        \n",
    "        def sit(self):\n",
    "            \"\"\"Simulate a dog sitting in reponse to command \"\"\"  # Comments3 \n",
    "            Print(f\"{self.name} is now sitting\")\n",
    "            \n",
    "            def roll_over(self):\n",
    "                \"\"\"simulating roll over in response to a command\"\"\"  # Comments 4\n",
    "                print(f\"{self.name} rolled Over!\")\n",
    "                "
   ]
  },
  {
   "cell_type": "code",
   "execution_count": 34,
   "id": "7fdc5754",
   "metadata": {},
   "outputs": [
    {
     "ename": "AttributeError",
     "evalue": "'dog' object has no attribute 'sit'",
     "output_type": "error",
     "traceback": [
      "\u001b[1;31m---------------------------------------------------------------------------\u001b[0m",
      "\u001b[1;31mAttributeError\u001b[0m                            Traceback (most recent call last)",
      "Cell \u001b[1;32mIn[34], line 3\u001b[0m\n\u001b[0;32m      1\u001b[0m \u001b[38;5;66;03m# execute\u001b[39;00m\n\u001b[0;32m      2\u001b[0m my_dog\u001b[38;5;241m=\u001b[39mdog(\u001b[38;5;124m'\u001b[39m\u001b[38;5;124mwillie\u001b[39m\u001b[38;5;124m'\u001b[39m,\u001b[38;5;241m6\u001b[39m)  \u001b[38;5;66;03m# Assign values\u001b[39;00m\n\u001b[1;32m----> 3\u001b[0m my_dog\u001b[38;5;241m.\u001b[39msit()\n",
      "\u001b[1;31mAttributeError\u001b[0m: 'dog' object has no attribute 'sit'"
     ]
    }
   ],
   "source": [
    "# execute\n",
    "my_dog=dog('willie',6)  # Assign values\n",
    "my_dog.sit()"
   ]
  },
  {
   "cell_type": "code",
   "execution_count": 31,
   "id": "e153625f",
   "metadata": {},
   "outputs": [
    {
     "ename": "AttributeError",
     "evalue": "'dog' object has no attribute 'sit'",
     "output_type": "error",
     "traceback": [
      "\u001b[1;31m---------------------------------------------------------------------------\u001b[0m",
      "\u001b[1;31mAttributeError\u001b[0m                            Traceback (most recent call last)",
      "Cell \u001b[1;32mIn[31], line 2\u001b[0m\n\u001b[0;32m      1\u001b[0m x\u001b[38;5;241m=\u001b[39mdog(\u001b[38;5;124m'\u001b[39m\u001b[38;5;124mbruno\u001b[39m\u001b[38;5;124m'\u001b[39m,\u001b[38;5;241m3\u001b[39m)\n\u001b[1;32m----> 2\u001b[0m x\u001b[38;5;241m.\u001b[39msit()\n",
      "\u001b[1;31mAttributeError\u001b[0m: 'dog' object has no attribute 'sit'"
     ]
    }
   ],
   "source": [
    "x=dog('bruno',3)\n",
    "x.sit()"
   ]
  },
  {
   "cell_type": "code",
   "execution_count": 35,
   "id": "650e68c4",
   "metadata": {},
   "outputs": [
    {
     "ename": "AttributeError",
     "evalue": "'dog' object has no attribute 'roll_over'",
     "output_type": "error",
     "traceback": [
      "\u001b[1;31m---------------------------------------------------------------------------\u001b[0m",
      "\u001b[1;31mAttributeError\u001b[0m                            Traceback (most recent call last)",
      "Cell \u001b[1;32mIn[35], line 1\u001b[0m\n\u001b[1;32m----> 1\u001b[0m my_dog\u001b[38;5;241m.\u001b[39mroll_over()\n",
      "\u001b[1;31mAttributeError\u001b[0m: 'dog' object has no attribute 'roll_over'"
     ]
    }
   ],
   "source": [
    "my_dog.roll_over()"
   ]
  },
  {
   "cell_type": "code",
   "execution_count": 32,
   "id": "846f5538",
   "metadata": {},
   "outputs": [
    {
     "ename": "AttributeError",
     "evalue": "'dog' object has no attribute 'roll_over'",
     "output_type": "error",
     "traceback": [
      "\u001b[1;31m---------------------------------------------------------------------------\u001b[0m",
      "\u001b[1;31mAttributeError\u001b[0m                            Traceback (most recent call last)",
      "Cell \u001b[1;32mIn[32], line 1\u001b[0m\n\u001b[1;32m----> 1\u001b[0m x\u001b[38;5;241m.\u001b[39mroll_over()\n",
      "\u001b[1;31mAttributeError\u001b[0m: 'dog' object has no attribute 'roll_over'"
     ]
    }
   ],
   "source": [
    "x.roll_over()"
   ]
  },
  {
   "cell_type": "code",
   "execution_count": null,
   "id": "50b649f0",
   "metadata": {},
   "outputs": [],
   "source": []
  }
 ],
 "metadata": {
  "kernelspec": {
   "display_name": "Python 3 (ipykernel)",
   "language": "python",
   "name": "python3"
  },
  "language_info": {
   "codemirror_mode": {
    "name": "ipython",
    "version": 3
   },
   "file_extension": ".py",
   "mimetype": "text/x-python",
   "name": "python",
   "nbconvert_exporter": "python",
   "pygments_lexer": "ipython3",
   "version": "3.11.3"
  }
 },
 "nbformat": 4,
 "nbformat_minor": 5
}
