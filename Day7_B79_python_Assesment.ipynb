{
 "cells": [
  {
   "cell_type": "code",
   "execution_count": 4,
   "id": "40a1b11a",
   "metadata": {},
   "outputs": [
    {
     "name": "stdout",
     "output_type": "stream",
     "text": [
      "{'color': 'green', 'points': 5}\n"
     ]
    }
   ],
   "source": [
    "# Introduction to Dictionay:\n",
    "# A Dictionary is a ciombination of Key value pairs\n",
    "# It is immutable and defined in {}\n",
    "# Req: creating a alien name:\n",
    "alien={'color':'green','points':5}\n",
    "print(alien)"
   ]
  },
  {
   "cell_type": "code",
   "execution_count": 14,
   "id": "0b58ba3a",
   "metadata": {},
   "outputs": [
    {
     "name": "stdout",
     "output_type": "stream",
     "text": [
      "{'color': 'green', 'points': 'five'}\n"
     ]
    }
   ],
   "source": [
    "# my test to cehck withpout single quotes( if u give string then compulsory give in single quotes and for numvers not required)\n",
    "alien1={'color':'green','points':'five'}\n",
    "print(alien1)"
   ]
  },
  {
   "cell_type": "code",
   "execution_count": 15,
   "id": "048231ec",
   "metadata": {},
   "outputs": [
    {
     "data": {
      "text/plain": [
       "dict"
      ]
     },
     "execution_count": 15,
     "metadata": {},
     "output_type": "execute_result"
    }
   ],
   "source": [
    "type(alien)"
   ]
  },
  {
   "cell_type": "code",
   "execution_count": 16,
   "id": "cd9eb848",
   "metadata": {},
   "outputs": [],
   "source": [
    "# Requirement to add additional properties/appending values.\n",
    "# use below syntax to append values to dict.\n",
    "#Note : to declaration in{} and to append values by using [] as below:\n",
    "alien['start_position']=0"
   ]
  },
  {
   "cell_type": "code",
   "execution_count": 17,
   "id": "ba67141d",
   "metadata": {},
   "outputs": [
    {
     "name": "stdout",
     "output_type": "stream",
     "text": [
      "{'color': 'green', 'points': 5, 'start_position': 0}\n"
     ]
    }
   ],
   "source": [
    "print(alien)"
   ]
  },
  {
   "cell_type": "code",
   "execution_count": 20,
   "id": "e90909d0",
   "metadata": {},
   "outputs": [
    {
     "name": "stdout",
     "output_type": "stream",
     "text": [
      "{'color': 'green', 'points': 5, 'start_position': 2}\n"
     ]
    }
   ],
   "source": [
    "# To modify values use below syntax:\n",
    "alien['start_position']=2\n",
    "print(alien)"
   ]
  },
  {
   "cell_type": "code",
   "execution_count": null,
   "id": "7a648b0c",
   "metadata": {},
   "outputs": [],
   "source": []
  }
 ],
 "metadata": {
  "kernelspec": {
   "display_name": "Python 3 (ipykernel)",
   "language": "python",
   "name": "python3"
  },
  "language_info": {
   "codemirror_mode": {
    "name": "ipython",
    "version": 3
   },
   "file_extension": ".py",
   "mimetype": "text/x-python",
   "name": "python",
   "nbconvert_exporter": "python",
   "pygments_lexer": "ipython3",
   "version": "3.11.3"
  }
 },
 "nbformat": 4,
 "nbformat_minor": 5
}
