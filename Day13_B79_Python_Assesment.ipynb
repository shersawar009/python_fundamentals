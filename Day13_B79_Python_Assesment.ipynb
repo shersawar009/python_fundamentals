{
 "cells": [
  {
   "cell_type": "code",
   "execution_count": null,
   "id": "aeb53896",
   "metadata": {},
   "outputs": [],
   "source": [
    "introduction to while loops:"
   ]
  },
  {
   "cell_type": "code",
   "execution_count": null,
   "id": "88855da7",
   "metadata": {},
   "outputs": [],
   "source": []
  },
  {
   "cell_type": "code",
   "execution_count": 1,
   "id": "bc9c87d1",
   "metadata": {},
   "outputs": [
    {
     "name": "stdout",
     "output_type": "stream",
     "text": [
      "1\n",
      "2\n",
      "3\n",
      "4\n",
      "5\n"
     ]
    }
   ],
   "source": [
    "current_number = 1\n",
    "\n",
    "while current_number <=5:\n",
    "    print(current_number)\n",
    "    current_number += 1"
   ]
  },
  {
   "cell_type": "code",
   "execution_count": null,
   "id": "4d276430",
   "metadata": {},
   "outputs": [],
   "source": []
  },
  {
   "cell_type": "code",
   "execution_count": null,
   "id": "f3b8c440",
   "metadata": {},
   "outputs": [],
   "source": [
    "user accepted input :"
   ]
  },
  {
   "cell_type": "code",
   "execution_count": null,
   "id": "ba685988",
   "metadata": {},
   "outputs": [],
   "source": [
    "# req : letting the user choose when to quit"
   ]
  },
  {
   "cell_type": "code",
   "execution_count": 3,
   "id": "b8d86b88",
   "metadata": {},
   "outputs": [],
   "source": [
    "prompt = \"\\ntell me something and i will repeat i back to you\"\n",
    "prompt += \"\\nEnter quit to end the program\""
   ]
  },
  {
   "cell_type": "code",
   "execution_count": 4,
   "id": "a2f1733e",
   "metadata": {},
   "outputs": [
    {
     "name": "stdout",
     "output_type": "stream",
     "text": [
      "\n",
      "tell me something and i will repeat i back to you\n",
      "Enter quit to end the programhello everyone\n",
      "hello everyone\n",
      "\n",
      "tell me something and i will repeat i back to you\n",
      "Enter quit to end the program1234\n",
      "1234\n",
      "\n",
      "tell me something and i will repeat i back to you\n",
      "Enter quit to end the programgreetings to  you\n",
      "greetings to  you\n",
      "\n",
      "tell me something and i will repeat i back to you\n",
      "Enter quit to end the programemptly\n",
      "emptly\n",
      "\n",
      "tell me something and i will repeat i back to you\n",
      "Enter quit to end the programhi\n",
      "hi\n",
      "\n",
      "tell me something and i will repeat i back to you\n",
      "Enter quit to end the programquit\n",
      "quit\n"
     ]
    }
   ],
   "source": [
    "message =\"\"\n",
    "\n",
    "while message != 'quit':\n",
    "    message = input(prompt)\n",
    "    print(message)\n",
    "    "
   ]
  },
  {
   "cell_type": "code",
   "execution_count": null,
   "id": "ee6e8131",
   "metadata": {},
   "outputs": [],
   "source": []
  },
  {
   "cell_type": "code",
   "execution_count": null,
   "id": "4979ba12",
   "metadata": {},
   "outputs": [],
   "source": [
    "# creating the flags :"
   ]
  },
  {
   "cell_type": "code",
   "execution_count": 5,
   "id": "c8d26530",
   "metadata": {},
   "outputs": [],
   "source": [
    "prompt = \"\\nplease enter the name of the city you have visited:\"\n",
    "prompt += \"\\enter quit when you are finished\""
   ]
  },
  {
   "cell_type": "code",
   "execution_count": 6,
   "id": "7e00ce98",
   "metadata": {},
   "outputs": [
    {
     "ename": "SyntaxError",
     "evalue": "f-string: invalid conversion character: expected 's', 'r', or 'a' (4232241016.py, line 6)",
     "output_type": "error",
     "traceback": [
      "\u001b[1;36m  Cell \u001b[1;32mIn[6], line 6\u001b[1;36m\u001b[0m\n\u001b[1;33m    print(f\"I'd love to go to {city.jtitle()!}\")\u001b[0m\n\u001b[1;37m                                               ^\u001b[0m\n\u001b[1;31mSyntaxError\u001b[0m\u001b[1;31m:\u001b[0m f-string: invalid conversion character: expected 's', 'r', or 'a'\n"
     ]
    }
   ],
   "source": [
    "while True:\n",
    "    city = input(prompt)\n",
    "    if city == 'quit':\n",
    "        break\n",
    "    else:\n",
    "        print(f\"I'd love to go to {city.jtitle()!}\")"
   ]
  },
  {
   "cell_type": "code",
   "execution_count": 9,
   "id": "c2aa534e",
   "metadata": {},
   "outputs": [
    {
     "name": "stdout",
     "output_type": "stream",
     "text": [
      "\n",
      "please enter the name of the city you have visited:\\enter quit when you are finishedbangalore\n",
      "I'd love to go to Bangalore!\n",
      "\n",
      "please enter the name of the city you have visited:\\enter quit when you are finishedhyderabad\n",
      "I'd love to go to Hyderabad!\n",
      "\n",
      "please enter the name of the city you have visited:\\enter quit when you are finishedmumbai\n",
      "I'd love to go to Mumbai!\n",
      "\n",
      "please enter the name of the city you have visited:\\enter quit when you are finishedquit\n"
     ]
    }
   ],
   "source": [
    "while True:\n",
    "    city = input(prompt)\n",
    "    if city == 'quit':\n",
    "        break\n",
    "    else:\n",
    "        print(f\"I'd love to go to {city.title()}!\")"
   ]
  },
  {
   "cell_type": "code",
   "execution_count": null,
   "id": "6d6a15cf",
   "metadata": {},
   "outputs": [],
   "source": []
  },
  {
   "cell_type": "code",
   "execution_count": null,
   "id": "bb4c46dc",
   "metadata": {},
   "outputs": [],
   "source": [
    "class :------> it is a high level blueprint of the program\n",
    "attributes ------> variables\n",
    "methods -------> functions =====>def\n",
    "self ------> it is a temp placeholder for an object"
   ]
  },
  {
   "cell_type": "code",
   "execution_count": null,
   "id": "9f28d4d9",
   "metadata": {},
   "outputs": [],
   "source": []
  },
  {
   "cell_type": "code",
   "execution_count": null,
   "id": "f87079b5",
   "metadata": {},
   "outputs": [],
   "source": [
    "class ======> (OOPS)"
   ]
  },
  {
   "cell_type": "code",
   "execution_count": null,
   "id": "c10b854f",
   "metadata": {},
   "outputs": [],
   "source": [
    "File handling in python :\n",
    "    \n",
    "exceptional handling :"
   ]
  },
  {
   "cell_type": "code",
   "execution_count": null,
   "id": "1f6882d6",
   "metadata": {},
   "outputs": [],
   "source": []
  },
  {
   "cell_type": "code",
   "execution_count": null,
   "id": "d2cef000",
   "metadata": {},
   "outputs": [],
   "source": []
  },
  {
   "cell_type": "code",
   "execution_count": null,
   "id": "22ca60f6",
   "metadata": {},
   "outputs": [],
   "source": []
  },
  {
   "cell_type": "code",
   "execution_count": null,
   "id": "132ca39a",
   "metadata": {},
   "outputs": [],
   "source": []
  },
  {
   "cell_type": "code",
   "execution_count": null,
   "id": "d0408a11",
   "metadata": {},
   "outputs": [],
   "source": []
  },
  {
   "cell_type": "code",
   "execution_count": null,
   "id": "d3ec61d0",
   "metadata": {},
   "outputs": [],
   "source": []
  },
  {
   "cell_type": "code",
   "execution_count": null,
   "id": "5c7d02ed",
   "metadata": {},
   "outputs": [],
   "source": []
  },
  {
   "cell_type": "code",
   "execution_count": null,
   "id": "2703ef9c",
   "metadata": {},
   "outputs": [],
   "source": []
  },
  {
   "cell_type": "code",
   "execution_count": null,
   "id": "8b438965",
   "metadata": {},
   "outputs": [],
   "source": []
  },
  {
   "cell_type": "code",
   "execution_count": null,
   "id": "53eb9f46",
   "metadata": {},
   "outputs": [],
   "source": []
  },
  {
   "cell_type": "code",
   "execution_count": null,
   "id": "cb4e4d54",
   "metadata": {},
   "outputs": [],
   "source": []
  },
  {
   "cell_type": "code",
   "execution_count": null,
   "id": "90931fc7",
   "metadata": {},
   "outputs": [],
   "source": []
  },
  {
   "cell_type": "code",
   "execution_count": null,
   "id": "f91be3c5",
   "metadata": {},
   "outputs": [],
   "source": []
  },
  {
   "cell_type": "code",
   "execution_count": null,
   "id": "ca7ea0b0",
   "metadata": {},
   "outputs": [],
   "source": []
  },
  {
   "cell_type": "code",
   "execution_count": null,
   "id": "a763f065",
   "metadata": {},
   "outputs": [],
   "source": []
  },
  {
   "cell_type": "code",
   "execution_count": null,
   "id": "7073423e",
   "metadata": {},
   "outputs": [],
   "source": []
  },
  {
   "cell_type": "code",
   "execution_count": null,
   "id": "da79d2b2",
   "metadata": {},
   "outputs": [],
   "source": []
  },
  {
   "cell_type": "code",
   "execution_count": null,
   "id": "338cb1b8",
   "metadata": {},
   "outputs": [],
   "source": []
  },
  {
   "cell_type": "code",
   "execution_count": null,
   "id": "d306d97a",
   "metadata": {},
   "outputs": [],
   "source": []
  },
  {
   "cell_type": "code",
   "execution_count": null,
   "id": "73e015a1",
   "metadata": {},
   "outputs": [],
   "source": []
  },
  {
   "cell_type": "code",
   "execution_count": null,
   "id": "019d475b",
   "metadata": {},
   "outputs": [],
   "source": []
  },
  {
   "cell_type": "code",
   "execution_count": null,
   "id": "84c33548",
   "metadata": {},
   "outputs": [],
   "source": []
  },
  {
   "cell_type": "code",
   "execution_count": null,
   "id": "4af5eb59",
   "metadata": {},
   "outputs": [],
   "source": []
  },
  {
   "cell_type": "code",
   "execution_count": null,
   "id": "1ac1e4e8",
   "metadata": {},
   "outputs": [],
   "source": []
  },
  {
   "cell_type": "code",
   "execution_count": null,
   "id": "2c15b3ba",
   "metadata": {},
   "outputs": [],
   "source": []
  },
  {
   "cell_type": "code",
   "execution_count": null,
   "id": "39d61c9d",
   "metadata": {},
   "outputs": [],
   "source": []
  },
  {
   "cell_type": "code",
   "execution_count": null,
   "id": "e54a3afd",
   "metadata": {},
   "outputs": [],
   "source": []
  },
  {
   "cell_type": "code",
   "execution_count": null,
   "id": "71b7def9",
   "metadata": {},
   "outputs": [],
   "source": []
  },
  {
   "cell_type": "code",
   "execution_count": null,
   "id": "46b550c5",
   "metadata": {},
   "outputs": [],
   "source": []
  }
 ],
 "metadata": {
  "kernelspec": {
   "display_name": "Python 3 (ipykernel)",
   "language": "python",
   "name": "python3"
  },
  "language_info": {
   "codemirror_mode": {
    "name": "ipython",
    "version": 3
   },
   "file_extension": ".py",
   "mimetype": "text/x-python",
   "name": "python",
   "nbconvert_exporter": "python",
   "pygments_lexer": "ipython3",
   "version": "3.11.3"
  }
 },
 "nbformat": 4,
 "nbformat_minor": 5
}
