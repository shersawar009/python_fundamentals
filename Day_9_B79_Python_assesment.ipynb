{
 "cells": [
  {
   "cell_type": "code",
   "execution_count": 1,
   "id": "bf65c3ae",
   "metadata": {},
   "outputs": [
    {
     "name": "stdout",
     "output_type": "stream",
     "text": [
      "['audi', 'suzuki', 'toyoto', 'kia', 'bmw']\n"
     ]
    }
   ],
   "source": [
    "#Introducton to IF ELSE statement\n",
    "cars=['audi','suzuki','toyoto','kia','bmw']\n",
    "print(cars)"
   ]
  },
  {
   "cell_type": "code",
   "execution_count": 2,
   "id": "fa5d2ba9",
   "metadata": {},
   "outputs": [
    {
     "data": {
      "text/plain": [
       "list"
      ]
     },
     "execution_count": 2,
     "metadata": {},
     "output_type": "execute_result"
    }
   ],
   "source": [
    "type(cars)"
   ]
  },
  {
   "cell_type": "code",
   "execution_count": 29,
   "id": "f71ef0e1",
   "metadata": {},
   "outputs": [
    {
     "name": "stdout",
     "output_type": "stream",
     "text": [
      "Bmw\n"
     ]
    }
   ],
   "source": [
    "#Introducton to conditional statement---->IF ELSE statement\n",
    "# req: tpo print list of cars in title case/Init caps\n",
    "# cars=['audi','suzuki','toyoto','kia','bmw']\n",
    "for x in cars:\n",
    "    if x=='bmW':\n",
    "        print(x.upper())\n",
    "else:\n",
    "    print(x.title())"
   ]
  },
  {
   "cell_type": "code",
   "execution_count": 19,
   "id": "53642f3a",
   "metadata": {},
   "outputs": [
    {
     "name": "stdout",
     "output_type": "stream",
     "text": [
      "Tell me something, I will print for you: hellow\n",
      "hellow\n"
     ]
    }
   ],
   "source": [
    "# Understand the concept of User Input():\n",
    "# Note: whatever you give as variable name, the same has to give in print(), because it is case sensitive.******\n",
    "#ex1: \n",
    "Message=input(\"Tell me something, I will print for you: \")\n",
    "print(Message)"
   ]
  },
  {
   "cell_type": "code",
   "execution_count": 21,
   "id": "b5e1b502",
   "metadata": {},
   "outputs": [
    {
     "name": "stdout",
     "output_type": "stream",
     "text": [
      "plese enter name: hafiz\n",
      "\n",
      " Hello,hafiz\n"
     ]
    }
   ],
   "source": [
    "#Test2: write message directly\n",
    "name=input(\"plese enter name: \")\n",
    "print(f\"\\n Hello,{name}\")"
   ]
  },
  {
   "cell_type": "code",
   "execution_count": 23,
   "id": "55e20705",
   "metadata": {},
   "outputs": [
    {
     "name": "stdout",
     "output_type": "stream",
     "text": [
      "Please tell me about yourself, we will personalise adn customise your message\n",
      " what is your name : bash\n",
      "\n",
      " Hello,bash\n"
     ]
    }
   ],
   "source": [
    "#Test3: write message in variable and call variable\n",
    "promt=\"Please tell me about yourself, we will personalise adn customise your message\"\n",
    "promt+=\"\\n what is your name : \"\n",
    "name=input(promt)\n",
    "print(f\"\\n Hello,{name:}\")"
   ]
  },
  {
   "cell_type": "code",
   "execution_count": 26,
   "id": "6f0e0112",
   "metadata": {},
   "outputs": [
    {
     "name": "stdout",
     "output_type": "stream",
     "text": [
      "How old are you ? 20\n"
     ]
    },
    {
     "data": {
      "text/plain": [
       "True"
      ]
     },
     "execution_count": 26,
     "metadata": {},
     "output_type": "execute_result"
    }
   ],
   "source": [
    "#Notes:Input Methd always accepts input inform of string by default\n",
    "age=input(\"How old are you ? \")\n",
    "age=int(age)\n",
    "age>18"
   ]
  },
  {
   "cell_type": "code",
   "execution_count": 32,
   "id": "4b54e9bc",
   "metadata": {},
   "outputs": [
    {
     "name": "stdout",
     "output_type": "stream",
     "text": [
      "how old are you buddy ? 21\n",
      "hurry! you are eligible to vote \n"
     ]
    }
   ],
   "source": [
    "# Building the simple voting machine\n",
    "age=input(\"how old are you buddy ? \")\n",
    "age=int(age)\n",
    "if age>18:\n",
    "    print(\"hurry! you are eligible to vote \")\n",
    "else:\n",
    "    print(\"ohh! sorry, you are not ligible to vote this election,try next time! \")"
   ]
  },
  {
   "cell_type": "code",
   "execution_count": 33,
   "id": "2bc1ce34",
   "metadata": {},
   "outputs": [
    {
     "name": "stdout",
     "output_type": "stream",
     "text": [
      "how old are you buddy ? 14\n",
      "ohh! sorry, you are not ligible to vote this election,try next time! \n"
     ]
    }
   ],
   "source": [
    "# Building the simple voting machine\n",
    "age=input(\"how old are you buddy ? \")\n",
    "age=int(age)\n",
    "if age>18:\n",
    "    print(\"hurry! you are eligible to vote \")\n",
    "else:\n",
    "    print(\"ohh! sorry, you are not ligible to vote this election,try next time! \")"
   ]
  },
  {
   "cell_type": "code",
   "execution_count": 34,
   "id": "cd2d2c13",
   "metadata": {},
   "outputs": [
    {
     "name": "stdout",
     "output_type": "stream",
     "text": [
      "enter a number, will tell you it is even or odd? 2\n",
      "\n",
      " the number is 2 is even\n"
     ]
    }
   ],
   "source": [
    "# Req: program to check the number is odd or even?\n",
    "number=input(\"enter a number, will tell you it is even or odd? \")\n",
    "number=int(number)\n",
    "if number%2==0:\n",
    "    print(f\"\\n the number is {number} is even\")\n",
    "else:\n",
    "    print(f\"\\n the number is {number} is odd\")"
   ]
  },
  {
   "cell_type": "code",
   "execution_count": 35,
   "id": "c62b4674",
   "metadata": {},
   "outputs": [
    {
     "name": "stdout",
     "output_type": "stream",
     "text": [
      "enter a number, will tell you it is even or odd? 9\n",
      "\n",
      " the number is 9 is odd\n"
     ]
    }
   ],
   "source": [
    "number=input(\"enter a number, will tell you it is even or odd? \")\n",
    "number=int(number)\n",
    "if number%2==0:\n",
    "    print(f\"\\n the number is {number} is even\")\n",
    "else:\n",
    "    print(f\"\\n the number is {number} is odd\")"
   ]
  },
  {
   "cell_type": "code",
   "execution_count": null,
   "id": "70b6c85d",
   "metadata": {},
   "outputs": [],
   "source": []
  }
 ],
 "metadata": {
  "kernelspec": {
   "display_name": "Python 3 (ipykernel)",
   "language": "python",
   "name": "python3"
  },
  "language_info": {
   "codemirror_mode": {
    "name": "ipython",
    "version": 3
   },
   "file_extension": ".py",
   "mimetype": "text/x-python",
   "name": "python",
   "nbconvert_exporter": "python",
   "pygments_lexer": "ipython3",
   "version": "3.11.3"
  }
 },
 "nbformat": 4,
 "nbformat_minor": 5
}
