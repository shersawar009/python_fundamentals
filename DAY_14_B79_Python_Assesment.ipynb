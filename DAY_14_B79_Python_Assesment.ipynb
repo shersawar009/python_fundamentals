{
 "cells": [
  {
   "cell_type": "code",
   "execution_count": null,
   "id": "cf494674",
   "metadata": {},
   "outputs": [],
   "source": [
    "#Introduction to FIle Handling\n",
    "\n",
    "r-->Open an existing for read operation\n",
    "w--> open an existinf file for write operation. It overrides the existing data/file with new data.\n",
    "a--> Append mode-->It adds new data to the existing file\n",
    "# Note : create sample file as name \"Numbers.txt\" and upload in python home directory"
   ]
  },
  {
   "cell_type": "code",
   "execution_count": 45,
   "id": "c51f6b43",
   "metadata": {},
   "outputs": [
    {
     "name": "stdout",
     "output_type": "stream",
     "text": [
      "this is data .it replace old data with new one\n",
      "\n",
      " This will be added in existing file as append\n"
     ]
    }
   ],
   "source": [
    "#Method 1 to read a file:\n",
    "\n",
    "file=open('Numbers.txt','r') # r --> read file\n",
    "for x in file:\n",
    "    print(x)"
   ]
  },
  {
   "cell_type": "code",
   "execution_count": 25,
   "id": "46f51b18",
   "metadata": {},
   "outputs": [
    {
     "name": "stdout",
     "output_type": "stream",
     "text": [
      "Emp_no\n",
      "123\n",
      "456\n",
      "789\n"
     ]
    }
   ],
   "source": [
    "#Method 2 to read a file:\n",
    "file=open('Numbers.txt','r') # r --> read file\n",
    "print(file.read())"
   ]
  },
  {
   "cell_type": "code",
   "execution_count": 29,
   "id": "83a826c6",
   "metadata": {},
   "outputs": [
    {
     "name": "stdout",
     "output_type": "stream",
     "text": [
      "Emp_no\n",
      "123\n",
      "456\n",
      "789\n"
     ]
    }
   ],
   "source": [
    "#Method 3 to read a file:by using \"with\"\n",
    "with open('Numbers.txt') as file:\n",
    "    data=file.read()  #first give four spaces then type data=.... else it throws indent error\n",
    "print(data)"
   ]
  },
  {
   "cell_type": "code",
   "execution_count": 30,
   "id": "7342a40c",
   "metadata": {},
   "outputs": [
    {
     "name": "stdout",
     "output_type": "stream",
     "text": [
      "Emp_no\n",
      "123\n",
      "456\n",
      "789\n"
     ]
    }
   ],
   "source": [
    "#Method 4 to read a file:by using \"alias\"\n",
    "with open('Numbers.txt') as x:\n",
    "    data=x.read()  #first give four spaces then type data=.... else it throws indent error\n",
    "print(data)"
   ]
  },
  {
   "cell_type": "code",
   "execution_count": 35,
   "id": "517375e2",
   "metadata": {},
   "outputs": [],
   "source": [
    "#Write Mode:It overrides the file with new data:\n",
    "file=open('Numbers.txt','w')\n",
    "file.write(\"9999\")  # it overrides in file.\n",
    "file.write(\"\\n1111\")  # it overrides in file.\n",
    "file.write(\"\\n2222\")  # it overrides in file.\n",
    "file.close()"
   ]
  },
  {
   "cell_type": "code",
   "execution_count": 36,
   "id": "c325b218",
   "metadata": {},
   "outputs": [
    {
     "name": "stdout",
     "output_type": "stream",
     "text": [
      "9999\n",
      "1111\n",
      "2222\n"
     ]
    }
   ],
   "source": [
    "#To read above file:\n",
    "with open('Numbers.txt') as x:\n",
    "    data=x.read()  #first give four spaces then type data=.... else it throws indent error\n",
    "print(data)"
   ]
  },
  {
   "cell_type": "code",
   "execution_count": 38,
   "id": "6a00b0dc",
   "metadata": {},
   "outputs": [],
   "source": [
    "# With function Implementation:\n",
    "with open('Numbers.txt','w') as f:\n",
    "    f.write(\"this is data .it replace old data with new one\")  #first give four spaces then type data=.... else it throws indent error\n"
   ]
  },
  {
   "cell_type": "code",
   "execution_count": 39,
   "id": "1272170f",
   "metadata": {},
   "outputs": [
    {
     "name": "stdout",
     "output_type": "stream",
     "text": [
      "this is data .it replace old data with new one\n"
     ]
    }
   ],
   "source": [
    "#To read above file:\n",
    "with open('Numbers.txt') as x:\n",
    "    data=x.read()  #first give four spaces then type data=.... else it throws indent error\n",
    "print(data)"
   ]
  },
  {
   "cell_type": "code",
   "execution_count": 40,
   "id": "aeabb5ca",
   "metadata": {},
   "outputs": [],
   "source": [
    "# Append Mode:It appends/Add new data to existing file(it has old plus new data in file).\n",
    "file=open(\"Numbers.txt\",'a')\n",
    "file.write('\\n This will be added in existing file as append')\n",
    "file.close()"
   ]
  },
  {
   "cell_type": "code",
   "execution_count": 41,
   "id": "e1f2630b",
   "metadata": {},
   "outputs": [
    {
     "name": "stdout",
     "output_type": "stream",
     "text": [
      "this is data .it replace old data with new one\n",
      " This will be added in existing file as append\n"
     ]
    }
   ],
   "source": [
    "#To read above file:\n",
    "with open('Numbers.txt') as x:\n",
    "    data=x.read()  #first give four spaces then type data=.... else it throws indent error\n",
    "print(data)"
   ]
  },
  {
   "cell_type": "code",
   "execution_count": null,
   "id": "07b92a24",
   "metadata": {},
   "outputs": [],
   "source": []
  }
 ],
 "metadata": {
  "kernelspec": {
   "display_name": "Python 3 (ipykernel)",
   "language": "python",
   "name": "python3"
  },
  "language_info": {
   "codemirror_mode": {
    "name": "ipython",
    "version": 3
   },
   "file_extension": ".py",
   "mimetype": "text/x-python",
   "name": "python",
   "nbconvert_exporter": "python",
   "pygments_lexer": "ipython3",
   "version": "3.11.3"
  }
 },
 "nbformat": 4,
 "nbformat_minor": 5
}
