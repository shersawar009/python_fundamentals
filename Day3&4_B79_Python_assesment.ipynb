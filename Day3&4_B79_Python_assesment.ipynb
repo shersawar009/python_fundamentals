{
 "cells": [
  {
   "cell_type": "code",
   "execution_count": null,
   "id": "d319deb9",
   "metadata": {},
   "outputs": [],
   "source": [
    "firstname='pravin'\n",
    "lastname='kumar'"
   ]
  },
  {
   "cell_type": "code",
   "execution_count": 3,
   "id": "c2453a4f",
   "metadata": {},
   "outputs": [
    {
     "name": "stdout",
     "output_type": "stream",
     "text": [
      "pravinkumar\n"
     ]
    }
   ],
   "source": [
    "# display full name\n",
    "# f string are used.\n",
    "firstname='pravin'\n",
    "lastname='kumar'\n",
    "fullname=f\"{firstname}{lastname}\"\n",
    "print(fullname)"
   ]
  },
  {
   "cell_type": "code",
   "execution_count": 10,
   "id": "60f7bdf9",
   "metadata": {},
   "outputs": [
    {
     "name": "stdout",
     "output_type": "stream",
     "text": [
      "pravinkumar\n",
      "this is python day3 practice by student,pravinkumar\n"
     ]
    }
   ],
   "source": [
    "firstname='pravin'\n",
    "lastname='kumar'\n",
    "fullname=f\"{firstname}{lastname}\"\n",
    "print(fullname)\n",
    "message=f\"this is python day3 practice by student,{fullname}\"\n",
    "print(message)"
   ]
  },
  {
   "cell_type": "code",
   "execution_count": 13,
   "id": "1738a63b",
   "metadata": {},
   "outputs": [
    {
     "name": "stdout",
     "output_type": "stream",
     "text": [
      "this is python day3 practice by student,pravinkumar\n"
     ]
    }
   ],
   "source": [
    "message=f\"this is python day3 practice by student,{fullname}\"\n",
    "print(message)\n"
   ]
  },
  {
   "cell_type": "code",
   "execution_count": 14,
   "id": "14d14e43",
   "metadata": {},
   "outputs": [
    {
     "name": "stdout",
     "output_type": "stream",
     "text": [
      "this is python day3 practice by student,Pravinkumar\n"
     ]
    }
   ],
   "source": [
    "#custom message with init caps\n",
    "message=f\"this is python day3 practice by student,{fullname.title()}\"\n",
    "print(message)"
   ]
  },
  {
   "cell_type": "code",
   "execution_count": 15,
   "id": "c66696b8",
   "metadata": {},
   "outputs": [
    {
     "name": "stdout",
     "output_type": "stream",
     "text": [
      "fav_languages:python,java,c,c++\n"
     ]
    }
   ],
   "source": [
    "#Adding white spaces to strings\n",
    "print(\"fav_languages:python,java,c,c++\")\n"
   ]
  },
  {
   "cell_type": "code",
   "execution_count": 18,
   "id": "7a2bd36a",
   "metadata": {},
   "outputs": [
    {
     "name": "stdout",
     "output_type": "stream",
     "text": [
      "fav_languages:\n",
      "\tpython\n",
      "\tjava\n",
      "\tc\n",
      "\tc++\n"
     ]
    }
   ],
   "source": [
    "#Adding white spaces to strings\n",
    "#  \\n --> new line delimeter\n",
    "# \\t --> tab delimeter\n",
    "#Adding white spaces to strings\n",
    "print(\"fav_languages:\\n\\tpython\\n\\tjava\\n\\tc\\n\\tc++\")\n",
    "\n"
   ]
  },
  {
   "cell_type": "code",
   "execution_count": 31,
   "id": "b1d2a2eb",
   "metadata": {},
   "outputs": [
    {
     "data": {
      "text/plain": [
       "'python'"
      ]
     },
     "execution_count": 31,
     "metadata": {},
     "output_type": "execute_result"
    }
   ],
   "source": [
    "#removing white spaces from strings\n",
    "language=' python'\n",
    "language1='python '\n",
    "language2=' python '\n",
    "language.lstrip()\n",
    "language1.rstrip()\n",
    "language.strip()"
   ]
  },
  {
   "cell_type": "code",
   "execution_count": 32,
   "id": "4afe0bf2",
   "metadata": {},
   "outputs": [
    {
     "data": {
      "text/plain": [
       "'python'"
      ]
     },
     "execution_count": 32,
     "metadata": {},
     "output_type": "execute_result"
    }
   ],
   "source": [
    "language2.strip()"
   ]
  },
  {
   "cell_type": "code",
   "execution_count": 33,
   "id": "a667ac0a",
   "metadata": {},
   "outputs": [
    {
     "name": "stdout",
     "output_type": "stream",
     "text": [
      "['adam', 'rafi', 'sara']\n"
     ]
    }
   ],
   "source": [
    "#Introduction to LIST Datatypes\n",
    "# A list is a collection of items  declared in particular order.\n",
    "#It is mutable data type.\n",
    "\n",
    "students=['adam','rafi','sara']\n",
    "print(students)\n"
   ]
  },
  {
   "cell_type": "code",
   "execution_count": 34,
   "id": "3a33454a",
   "metadata": {},
   "outputs": [
    {
     "data": {
      "text/plain": [
       "list"
      ]
     },
     "execution_count": 34,
     "metadata": {},
     "output_type": "execute_result"
    }
   ],
   "source": [
    "type(students)"
   ]
  },
  {
   "cell_type": "code",
   "execution_count": 35,
   "id": "576d17d3",
   "metadata": {},
   "outputs": [
    {
     "data": {
      "text/plain": [
       "str"
      ]
     },
     "execution_count": 35,
     "metadata": {},
     "output_type": "execute_result"
    }
   ],
   "source": [
    "type(language)"
   ]
  },
  {
   "cell_type": "code",
   "execution_count": null,
   "id": "8b3bf32d",
   "metadata": {},
   "outputs": [],
   "source": [
    "# type () is used to check type of datatype"
   ]
  },
  {
   "cell_type": "code",
   "execution_count": 36,
   "id": "0e398999",
   "metadata": {},
   "outputs": [
    {
     "name": "stdout",
     "output_type": "stream",
     "text": [
      "rafi\n"
     ]
    }
   ],
   "source": [
    "# Very Important Topic  \n",
    "#Introduction to Indexing:\n",
    "# display rafi from above list using indexing\n",
    "print(students[1])\n"
   ]
  },
  {
   "cell_type": "code",
   "execution_count": 37,
   "id": "93cc857a",
   "metadata": {},
   "outputs": [
    {
     "name": "stdout",
     "output_type": "stream",
     "text": [
      "sara\n"
     ]
    }
   ],
   "source": [
    "print(students[2])"
   ]
  },
  {
   "cell_type": "code",
   "execution_count": 38,
   "id": "6303bc0f",
   "metadata": {},
   "outputs": [
    {
     "name": "stdout",
     "output_type": "stream",
     "text": [
      "adam\n"
     ]
    }
   ],
   "source": [
    "print(students[0])"
   ]
  },
  {
   "cell_type": "code",
   "execution_count": 39,
   "id": "370494a1",
   "metadata": {},
   "outputs": [
    {
     "name": "stdout",
     "output_type": "stream",
     "text": [
      "Rafi\n"
     ]
    }
   ],
   "source": [
    "#To display string in INIT caps -- title() is used to display init caps\n",
    "print(students[1].title())\n"
   ]
  },
  {
   "cell_type": "code",
   "execution_count": 40,
   "id": "bbdf29ec",
   "metadata": {},
   "outputs": [
    {
     "name": "stdout",
     "output_type": "stream",
     "text": [
      "Sara\n"
     ]
    }
   ],
   "source": [
    "print(students[2].title())"
   ]
  },
  {
   "cell_type": "code",
   "execution_count": 43,
   "id": "095464cd",
   "metadata": {},
   "outputs": [
    {
     "name": "stdout",
     "output_type": "stream",
     "text": [
      "Adam\n"
     ]
    }
   ],
   "source": [
    "print(students[0].title())"
   ]
  },
  {
   "cell_type": "code",
   "execution_count": 46,
   "id": "6ff8fa36",
   "metadata": {},
   "outputs": [
    {
     "name": "stdout",
     "output_type": "stream",
     "text": [
      "Adam\n"
     ]
    }
   ],
   "source": [
    "print(students[0].title())"
   ]
  },
  {
   "cell_type": "code",
   "execution_count": 47,
   "id": "a757659e",
   "metadata": {},
   "outputs": [],
   "source": [
    "#Append() is used to append elements to above list.\n",
    "# Append is always add element in last to the list.\n",
    "\n",
    "students.append('kunal')"
   ]
  },
  {
   "cell_type": "code",
   "execution_count": 48,
   "id": "a637f0f7",
   "metadata": {},
   "outputs": [
    {
     "name": "stdout",
     "output_type": "stream",
     "text": [
      "['adam', 'rafi', 'sara', 'kunal']\n"
     ]
    }
   ],
   "source": [
    "print(students)"
   ]
  },
  {
   "cell_type": "code",
   "execution_count": 49,
   "id": "c288c2b4",
   "metadata": {},
   "outputs": [],
   "source": [
    "#INSERT is used to Add firdode to desired/2nd position.\n",
    "students.insert(2,'firdose')\n",
    "\n"
   ]
  },
  {
   "cell_type": "code",
   "execution_count": 50,
   "id": "09491388",
   "metadata": {},
   "outputs": [
    {
     "name": "stdout",
     "output_type": "stream",
     "text": [
      "['adam', 'rafi', 'firdose', 'sara', 'kunal']\n"
     ]
    }
   ],
   "source": [
    "print(students)"
   ]
  },
  {
   "cell_type": "code",
   "execution_count": 52,
   "id": "affea47f",
   "metadata": {},
   "outputs": [
    {
     "name": "stdout",
     "output_type": "stream",
     "text": [
      "['adam', 'rafi', 'firdose', 'sara', 'kunal']\n"
     ]
    }
   ],
   "source": [
    "# Append() vs INSERT()\n",
    "# Append() is always add elements to last side to the list.\n",
    "# Insert() is used to add element at any Index position in the list.\n",
    "# requirement: How to edit/alter element in list\n",
    "# How to delete element in list\n",
    "print(students)"
   ]
  },
  {
   "cell_type": "code",
   "execution_count": 53,
   "id": "9d458800",
   "metadata": {},
   "outputs": [],
   "source": [
    "# Add vinod in place of sara\n",
    "students[3]='vinod'"
   ]
  },
  {
   "cell_type": "code",
   "execution_count": 54,
   "id": "ab5b5872",
   "metadata": {},
   "outputs": [
    {
     "name": "stdout",
     "output_type": "stream",
     "text": [
      "['adam', 'rafi', 'firdose', 'vinod', 'kunal']\n"
     ]
    }
   ],
   "source": [
    "print(students)"
   ]
  },
  {
   "cell_type": "code",
   "execution_count": 55,
   "id": "d7c89069",
   "metadata": {},
   "outputs": [
    {
     "name": "stdout",
     "output_type": "stream",
     "text": [
      "['adam', 'rafi', 'firdose', 'vinod', 'kunal']\n"
     ]
    }
   ],
   "source": [
    "# Deleting :\n",
    "# pop() : It is used for temp delete elements in list.\n",
    "# by default it delete last element from list\n",
    "# It creates corbon copy  of deleted elements and storing values that has been assigned to it.\n",
    "print(students)"
   ]
  },
  {
   "cell_type": "code",
   "execution_count": 56,
   "id": "bee9e4d2",
   "metadata": {},
   "outputs": [
    {
     "data": {
      "text/plain": [
       "'kunal'"
      ]
     },
     "execution_count": 56,
     "metadata": {},
     "output_type": "execute_result"
    }
   ],
   "source": [
    "students.pop()"
   ]
  },
  {
   "cell_type": "code",
   "execution_count": 57,
   "id": "4848fc1b",
   "metadata": {},
   "outputs": [
    {
     "name": "stdout",
     "output_type": "stream",
     "text": [
      "['adam', 'rafi', 'firdose', 'vinod']\n"
     ]
    }
   ],
   "source": [
    "print(students)"
   ]
  },
  {
   "cell_type": "code",
   "execution_count": 58,
   "id": "98e87247",
   "metadata": {},
   "outputs": [
    {
     "name": "stdout",
     "output_type": "stream",
     "text": [
      "['adam', 'firdose', 'vinod']\n"
     ]
    }
   ],
   "source": [
    "# req to delete rafi.\n",
    "y=students.pop(1)\n",
    "print(students)"
   ]
  },
  {
   "cell_type": "code",
   "execution_count": 59,
   "id": "3c3074c9",
   "metadata": {},
   "outputs": [
    {
     "name": "stdout",
     "output_type": "stream",
     "text": [
      "['adam', 'firdose', 'vinod']\n"
     ]
    }
   ],
   "source": [
    "print(students)"
   ]
  },
  {
   "cell_type": "code",
   "execution_count": 61,
   "id": "515b22fb",
   "metadata": {},
   "outputs": [],
   "source": [
    "students.append('ravi')"
   ]
  },
  {
   "cell_type": "code",
   "execution_count": 62,
   "id": "abef0ef9",
   "metadata": {},
   "outputs": [],
   "source": [
    "students.append('raju') # append it appends one element at moment."
   ]
  },
  {
   "cell_type": "code",
   "execution_count": 63,
   "id": "d6f48ac8",
   "metadata": {},
   "outputs": [
    {
     "name": "stdout",
     "output_type": "stream",
     "text": [
      "['adam', 'firdose', 'vinod', 'ravi', 'raju']\n"
     ]
    }
   ],
   "source": [
    "print(students)"
   ]
  },
  {
   "cell_type": "code",
   "execution_count": 64,
   "id": "03d1de37",
   "metadata": {},
   "outputs": [],
   "source": [
    "#delete vinod from above list\n",
    "del students[2]"
   ]
  },
  {
   "cell_type": "code",
   "execution_count": 65,
   "id": "d6b3c528",
   "metadata": {},
   "outputs": [
    {
     "name": "stdout",
     "output_type": "stream",
     "text": [
      "['adam', 'firdose', 'ravi', 'raju']\n"
     ]
    }
   ],
   "source": [
    "print(students)"
   ]
  },
  {
   "cell_type": "code",
   "execution_count": null,
   "id": "abd287f7",
   "metadata": {},
   "outputs": [],
   "source": [
    "#  pop() vs del() \n",
    "# Notes:\n",
    "# pop() : It is used for temp delete elements in list.\n",
    "# del() : It is used to delete permanent elements in list."
   ]
  },
  {
   "cell_type": "code",
   "execution_count": 66,
   "id": "96c22873",
   "metadata": {},
   "outputs": [
    {
     "name": "stdout",
     "output_type": "stream",
     "text": [
      "[1, 2, 3, 4]\n"
     ]
    }
   ],
   "source": [
    "re=[1,2,3,4]\n",
    "print(re)"
   ]
  },
  {
   "cell_type": "code",
   "execution_count": 67,
   "id": "dd19a977",
   "metadata": {},
   "outputs": [],
   "source": [
    "re.append([5])"
   ]
  },
  {
   "cell_type": "code",
   "execution_count": 68,
   "id": "dea0547c",
   "metadata": {},
   "outputs": [
    {
     "name": "stdout",
     "output_type": "stream",
     "text": [
      "[1, 2, 3, 4, [5]]\n"
     ]
    }
   ],
   "source": [
    "print(re)"
   ]
  },
  {
   "cell_type": "code",
   "execution_count": null,
   "id": "127d339e",
   "metadata": {},
   "outputs": [],
   "source": []
  }
 ],
 "metadata": {
  "kernelspec": {
   "display_name": "Python 3 (ipykernel)",
   "language": "python",
   "name": "python3"
  },
  "language_info": {
   "codemirror_mode": {
    "name": "ipython",
    "version": 3
   },
   "file_extension": ".py",
   "mimetype": "text/x-python",
   "name": "python",
   "nbconvert_exporter": "python",
   "pygments_lexer": "ipython3",
   "version": "3.11.3"
  }
 },
 "nbformat": 4,
 "nbformat_minor": 5
}
